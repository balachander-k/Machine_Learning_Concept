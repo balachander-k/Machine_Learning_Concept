{
  "nbformat": 4,
  "nbformat_minor": 0,
  "metadata": {
    "colab": {
      "provenance": [],
      "toc_visible": true,
      "authorship_tag": "ABX9TyMM6780anoJiLgae9+39tpS",
      "include_colab_link": true
    },
    "kernelspec": {
      "name": "python3",
      "display_name": "Python 3"
    },
    "language_info": {
      "name": "python"
    }
  },
  "cells": [
    {
      "cell_type": "markdown",
      "metadata": {
        "id": "view-in-github",
        "colab_type": "text"
      },
      "source": [
        "<a href=\"https://colab.research.google.com/github/balachander-k/Machine_Learning_Concept/blob/main/Reinforcement_Learning/Tic_Tac_Using_Reinforcement_Learning.ipynb\" target=\"_parent\"><img src=\"https://colab.research.google.com/assets/colab-badge.svg\" alt=\"Open In Colab\"/></a>"
      ]
    },
    {
      "cell_type": "code",
      "execution_count": 1,
      "metadata": {
        "colab": {
          "base_uri": "https://localhost:8080/"
        },
        "id": "L45VUicrkxVt",
        "outputId": "8a951b30-a15e-4df6-856f-6f13f5a18e7b"
      },
      "outputs": [
        {
          "output_type": "stream",
          "name": "stdout",
          "text": [
            "Winner: O\n"
          ]
        }
      ],
      "source": [
        "import random\n",
        "\n",
        "class TicTacToe:\n",
        "    def __init__(self):\n",
        "        self.board = [['-', '-', '-'],\n",
        "                     ['-', '-', '-'],\n",
        "                     ['-', '-', '-']]\n",
        "        self.current_player = 'X'\n",
        "\n",
        "    def is_game_over(self):\n",
        "        for row in self.board:\n",
        "            if all(x == row[0] for x in row):\n",
        "                return True\n",
        "        for col in range(3):\n",
        "            if all(self.board[i][col] == self.board[0][col] for i in range(3)):\n",
        "                return True\n",
        "        if self.board[0][0] == self.board[1][1] == self.board[2][2] == self.current_player or \\\n",
        "           self.board[0][2] == self.board[1][1] == self.board[2][0] == self.current_player:\n",
        "            return True\n",
        "        return False\n",
        "\n",
        "    def get_winner(self):\n",
        "        if self.is_game_over():\n",
        "            if self.current_player == 'X':\n",
        "                return 'O'\n",
        "            else:\n",
        "                return 'X'\n",
        "        return None\n",
        "\n",
        "    def make_move(self, row, col):\n",
        "        self.board[row][col] = self.current_player\n",
        "        self.current_player = 'O' if self.current_player == 'X' else 'X'\n",
        "\n",
        "    def play(self):\n",
        "        while not self.is_game_over():\n",
        "            row, col = random.randint(0, 2), random.randint(0, 2)\n",
        "            self.make_move(row, col)\n",
        "\n",
        "        winner = self.get_winner()\n",
        "        if winner:\n",
        "            print(f'Winner: {winner}')\n",
        "        else:\n",
        "            print('Tie!')\n",
        "\n",
        "if __name__ == '__main__':\n",
        "    tic_tac_toe = TicTacToe()\n",
        "    tic_tac_toe.play()"
      ]
    }
  ]
}