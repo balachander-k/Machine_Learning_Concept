{
  "nbformat": 4,
  "nbformat_minor": 0,
  "metadata": {
    "colab": {
      "provenance": [],
      "mount_file_id": "1N-W3g-DM4ByJjpUZuGGuSzAt6jJJSLy_",
      "authorship_tag": "ABX9TyOndtP0adW4uWYp1gBxSmBd",
      "include_colab_link": true
    },
    "kernelspec": {
      "name": "python3",
      "display_name": "Python 3"
    },
    "language_info": {
      "name": "python"
    }
  },
  "cells": [
    {
      "cell_type": "markdown",
      "metadata": {
        "id": "view-in-github",
        "colab_type": "text"
      },
      "source": [
        "<a href=\"https://colab.research.google.com/github/balachander-k/Machine_Learning_Concept/blob/main/PyLib/PythonLibraries.ipynb\" target=\"_parent\"><img src=\"https://colab.research.google.com/assets/colab-badge.svg\" alt=\"Open In Colab\"/></a>"
      ]
    },
    {
      "cell_type": "code",
      "execution_count": 2,
      "metadata": {
        "colab": {
          "base_uri": "https://localhost:8080/"
        },
        "id": "wy00-MbptHku",
        "outputId": "c123740a-f4d0-4190-ec43-50aaca1f3c46"
      },
      "outputs": [
        {
          "output_type": "stream",
          "name": "stdout",
          "text": [
            "219 \n",
            "\n",
            "[29 67] \n",
            "\n",
            "[[19 22]\n",
            " [43 50]]\n"
          ]
        }
      ],
      "source": [
        "import numpy as np\n",
        "x=np.array([[1,2],[3,4]])\n",
        "y=np.array([[5,6],[7,8]])\n",
        "\n",
        "v=np.array([9,10])\n",
        "w=np.array([11,12])\n",
        "\n",
        "print(np.dot(v,w),\"\\n\")\n",
        "\n",
        "print(np.dot(x,v),\"\\n\")\n",
        "\n",
        "print(np.dot(x,y))"
      ]
    },
    {
      "cell_type": "code",
      "source": [
        "import numpy as np\n",
        "arr=[2,3,4,5,1,9,44]\n",
        "print(\"Sum of Array: \",np.sum(arr))\n",
        "print(\"Median of Array: \",np.median(arr))\n",
        "print(\"Mean of Array: \",np.mean(arr))\n",
        "print(\"Standard Deviation: \",np.std(arr))\n",
        "print(\"Variance of Array: \",np.var(arr))\n",
        "print(\"Maximum of Array: \",np.max(arr))"
      ],
      "metadata": {
        "colab": {
          "base_uri": "https://localhost:8080/"
        },
        "id": "4jy3YAdYttrO",
        "outputId": "fab56664-ac70-4fcb-86c1-46435c8877af"
      },
      "execution_count": 3,
      "outputs": [
        {
          "output_type": "stream",
          "name": "stdout",
          "text": [
            "Sum of Array:  68\n",
            "Median of Array:  4.0\n",
            "Mean of Array:  9.714285714285714\n",
            "Standard Deviation:  14.199741302616202\n",
            "Variance of Array:  201.6326530612245\n",
            "Maximum of Array:  44\n"
          ]
        }
      ]
    },
    {
      "cell_type": "code",
      "source": [
        "import pandas as pd\n",
        "data={\"calories\":[420,30,12],\n",
        "      \"duration\":[12,5,3]}\n",
        "\n",
        "df=pd.DataFrame(data)\n",
        "print(df)"
      ],
      "metadata": {
        "colab": {
          "base_uri": "https://localhost:8080/"
        },
        "id": "D9vCkkN1tgot",
        "outputId": "966cd758-85d3-4d9b-adf4-2fd02c65d0dd"
      },
      "execution_count": 5,
      "outputs": [
        {
          "output_type": "stream",
          "name": "stdout",
          "text": [
            "   calories  duration\n",
            "0       420        12\n",
            "1        30         5\n",
            "2        12         3\n"
          ]
        }
      ]
    },
    {
      "cell_type": "code",
      "source": [
        "import pandas as pd\n",
        "data={\"calories\":[420,30,12],\n",
        "      \"duration\":[12,5,3]}\n",
        "\n",
        "df=pd.DataFrame(data)\n",
        "print(df,\"\\n\")\n",
        "print(df.loc[0],\"\\n\")\n",
        "print(df.loc[[0,1]])"
      ],
      "metadata": {
        "colab": {
          "base_uri": "https://localhost:8080/"
        },
        "id": "jC8Ug_hnuwTy",
        "outputId": "97247aeb-2a77-4909-9dbb-a32d15f9b48d"
      },
      "execution_count": 8,
      "outputs": [
        {
          "output_type": "stream",
          "name": "stdout",
          "text": [
            "   calories  duration\n",
            "0       420        12\n",
            "1        30         5\n",
            "2        12         3 \n",
            "\n",
            "calories    420\n",
            "duration     12\n",
            "Name: 0, dtype: int64 \n",
            "\n",
            "   calories  duration\n",
            "0       420        12\n",
            "1        30         5\n"
          ]
        }
      ]
    },
    {
      "cell_type": "code",
      "source": [
        "import pandas as pd\n",
        "data={\"calories\":[420,30,12],\n",
        "      \"duration\":[12,5,3]}\n",
        "\n",
        "df=pd.DataFrame(data,index=[\"day1\",\"day2\",\"day3\"])\n",
        "print(df)"
      ],
      "metadata": {
        "colab": {
          "base_uri": "https://localhost:8080/"
        },
        "id": "elJQPAkovkzv",
        "outputId": "af517ac1-a6a8-4bed-8712-5995cb403376"
      },
      "execution_count": 9,
      "outputs": [
        {
          "output_type": "stream",
          "name": "stdout",
          "text": [
            "      calories  duration\n",
            "day1       420        12\n",
            "day2        30         5\n",
            "day3        12         3\n"
          ]
        }
      ]
    },
    {
      "cell_type": "code",
      "source": [
        "import pandas as pd\n",
        "dataset=pd.read_csv('/content/drive/MyDrive/DataSet/lab1.csv')\n",
        "print(dataset)"
      ],
      "metadata": {
        "colab": {
          "base_uri": "https://localhost:8080/"
        },
        "id": "JAAFv1iLv0u2",
        "outputId": "62defb7b-e99d-4afa-d75a-b052ab23bb3e"
      },
      "execution_count": 11,
      "outputs": [
        {
          "output_type": "stream",
          "name": "stdout",
          "text": [
            "     sky air temp humidity    wind water forecast enjoy sport\n",
            "0  sunny     warm   normal  strong  warm     same         yes\n",
            "1  sunny     warm     high  strong  warm     same         yes\n",
            "2  rainy     cold     high  strong  warm   change          no\n",
            "3  sunny     warm     high  strong  cool   change         yes\n"
          ]
        }
      ]
    },
    {
      "cell_type": "code",
      "source": [
        "import pandas as pd\n",
        "dataset=pd.read_csv('/content/drive/MyDrive/DataSet/lab1.csv')\n",
        "print(dataset,\"\\n\")\n",
        "print(dataset.head(2),\"\\n\")\n",
        "print(dataset.tail(2))\n"
      ],
      "metadata": {
        "colab": {
          "base_uri": "https://localhost:8080/"
        },
        "id": "k4UYUTxZwH4C",
        "outputId": "2580d632-b8a5-4a1d-9c4c-527395fc6edf"
      },
      "execution_count": 12,
      "outputs": [
        {
          "output_type": "stream",
          "name": "stdout",
          "text": [
            "     sky air temp humidity    wind water forecast enjoy sport\n",
            "0  sunny     warm   normal  strong  warm     same         yes\n",
            "1  sunny     warm     high  strong  warm     same         yes\n",
            "2  rainy     cold     high  strong  warm   change          no\n",
            "3  sunny     warm     high  strong  cool   change         yes \n",
            "\n",
            "     sky air temp humidity    wind water forecast enjoy sport\n",
            "0  sunny     warm   normal  strong  warm     same         yes\n",
            "1  sunny     warm     high  strong  warm     same         yes \n",
            "\n",
            "     sky air temp humidity    wind water forecast enjoy sport\n",
            "2  rainy     cold     high  strong  warm   change          no\n",
            "3  sunny     warm     high  strong  cool   change         yes\n"
          ]
        }
      ]
    },
    {
      "cell_type": "code",
      "source": [
        "import matplotlib.pyplot as plt\n",
        "import numpy as np\n",
        "\n",
        "x=np.linspace(0,10,100)\n",
        "plt.plot(x,x,label='linear')\n",
        "plt.legend()\n",
        "plt.show()"
      ],
      "metadata": {
        "colab": {
          "base_uri": "https://localhost:8080/",
          "height": 430
        },
        "id": "Q3KXRR4KxI-h",
        "outputId": "9877eb98-64a4-4773-8004-badfac62f539"
      },
      "execution_count": 15,
      "outputs": [
        {
          "output_type": "display_data",
          "data": {
            "text/plain": [
              "<Figure size 640x480 with 1 Axes>"
            ],
            "image/png": "[encoded data removed]"
          },
          "metadata": {}
        }
      ]
    }
  ]
}