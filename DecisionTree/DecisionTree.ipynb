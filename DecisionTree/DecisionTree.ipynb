{
  "nbformat": 4,
  "nbformat_minor": 0,
  "metadata": {
    "colab": {
      "provenance": [],
      "mount_file_id": "1gNQPav_uqxRtk4f5tHddanh4lVD8qT93",
      "authorship_tag": "ABX9TyO25UbbzKnnr9rkQEmOJB0Q",
      "include_colab_link": true
    },
    "kernelspec": {
      "name": "python3",
      "display_name": "Python 3"
    },
    "language_info": {
      "name": "python"
    }
  },
  "cells": [
    {
      "cell_type": "markdown",
      "metadata": {
        "id": "view-in-github",
        "colab_type": "text"
      },
      "source": [
        "<a href=\"https://colab.research.google.com/github/balachander-k/Machine_Learning_Concept/blob/main/DecisionTree/DecisionTree.ipynb\" target=\"_parent\"><img src=\"https://colab.research.google.com/assets/colab-badge.svg\" alt=\"Open In Colab\"/></a>"
      ]
    },
    {
      "cell_type": "code",
      "execution_count": 7,
      "metadata": {
        "colab": {
          "base_uri": "https://localhost:8080/"
        },
        "id": "TLrHv12WCzuk",
        "outputId": "d538951b-9694-4d4b-bb03-f321f9e6d471"
      },
      "outputs": [
        {
          "output_type": "stream",
          "name": "stdout",
          "text": [
            "   age  salary  purchased\n",
            "7   50  110000          0\n",
            "2   25   60000          1\n",
            "1   21   50000          0\n",
            "   age  salary  purchased\n",
            "4   35   80000          1\n",
            "8   55  120000          0\n",
            "6   45  100000          0\n",
            "3   30   70000          1\n",
            "0   18   40000          0\n",
            "5   40   90000          1\n",
            "Accuracy: 1.0\n"
          ]
        }
      ],
      "source": [
        "import numpy as np\n",
        "import pandas as pd\n",
        "from sklearn.tree import DecisionTreeClassifier\n",
        "from sklearn.model_selection import train_test_split\n",
        "\n",
        "dataset = pd.read_csv(\"/content/drive/MyDrive/DataSet/decisiontreexlsx.csv\")\n",
        "\n",
        "X_train, X_test, y_train, y_test = train_test_split(dataset, dataset[\"purchased\"], test_size=0.25, random_state=0)\n",
        "\n",
        "\n",
        "classifier = DecisionTreeClassifier(criterion=\"entropy\", random_state=0)\n",
        "\n",
        "\n",
        "classifier.fit(X_train, y_train)\n",
        "\n",
        "y_pred = classifier.predict(X_test)\n",
        "\n",
        "print(X_test)\n",
        "print(X_train)\n",
        "print(\"Accuracy:\", classifier.score(X_test, y_test))\n"
      ]
    }
  ]
}