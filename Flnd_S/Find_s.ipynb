{
  "nbformat": 4,
  "nbformat_minor": 0,
  "metadata": {
    "colab": {
      "provenance": [],
      "mount_file_id": "1r8Au-0kCrxt7iPn9FnfPRWVtNhseb0qP",
      "authorship_tag": "ABX9TyPahW1Qq8w+eK26Y3aB6GqH",
      "include_colab_link": true
    },
    "kernelspec": {
      "name": "python3",
      "display_name": "Python 3"
    },
    "language_info": {
      "name": "python"
    }
  },
  "cells": [
    {
      "cell_type": "markdown",
      "metadata": {
        "id": "view-in-github",
        "colab_type": "text"
      },
      "source": [
        "<a href=\"https://colab.research.google.com/github/balachander-k/Machine_Learning_Concept/blob/main/Flnd_S/Find_s.ipynb\" target=\"_parent\"><img src=\"https://colab.research.google.com/assets/colab-badge.svg\" alt=\"Open In Colab\"/></a>"
      ]
    },
    {
      "cell_type": "code",
      "execution_count": 7,
      "metadata": {
        "id": "d9bz9aZjnEzV"
      },
      "outputs": [],
      "source": [
        "import pandas as pd\n",
        "import numpy as np\n",
        "data = pd.read_csv(\"/content/drive/MyDrive/DataSet/lab1.csv\")\n",
        "# This path not working in all machine. Need upload the dataset in the drive and mount the drive\n",
        "concepts = np.array(data)[:,:-1]\n",
        "target = np.array(data)[:,-1]"
      ]
    },
    {
      "cell_type": "code",
      "source": [
        "def train(con,tar):\n",
        "    for i,val in enumerate(tar):\n",
        "        if val=='yes':\n",
        "            specific_h = con[i].copy()\n",
        "            break\n",
        "\n",
        "    for i,val in enumerate(con):\n",
        "        if tar[i]=='yes':\n",
        "            for x in range(len(specific_h)):\n",
        "                if val[x] != specific_h[x]:\n",
        "                    specific_h[x] = '?'\n",
        "                else:\n",
        "                    pass\n",
        "    return specific_h"
      ],
      "metadata": {
        "id": "IyXfFarQn1DV"
      },
      "execution_count": 5,
      "outputs": []
    },
    {
      "cell_type": "code",
      "source": [
        "print(train(concepts,target))"
      ],
      "metadata": {
        "colab": {
          "base_uri": "https://localhost:8080/"
        },
        "id": "vZHCaXZLocpv",
        "outputId": "15361584-7998-4c8d-a056-6aa3cc030efa"
      },
      "execution_count": 6,
      "outputs": [
        {
          "output_type": "stream",
          "name": "stdout",
          "text": [
            "['sunny' 'warm' '?' 'strong' '?' '?']\n"
          ]
        }
      ]
    }
  ]
}